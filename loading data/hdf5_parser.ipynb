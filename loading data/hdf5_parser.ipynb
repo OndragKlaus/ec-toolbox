{
 "cells": [
  {
   "cell_type": "code",
   "execution_count": 36,
   "metadata": {},
   "outputs": [],
   "source": [
    "import h5py\n",
    "import numpy as np\n",
    "import random\n",
    "import string\n",
    "import datetime\n",
    "\n",
    "\n",
    "# Constants\n",
    "Group_name = 'C' # Name of the group"
   ]
  },
  {
   "cell_type": "code",
   "execution_count": 40,
   "metadata": {},
   "outputs": [],
   "source": [
    "def generateNameOfFile(id_run, enviroment_name, with_date = True):\n",
    "    if with_date:\n",
    "        date = datetime.datetime.now().strftime(\"%Y%m%d-%H%M%S\")\n",
    "        return 'experiment[{}][{}][id_run_{}][date_{}].hdf5'.format(Group_name,\n",
    "                                                               enviroment_name,\n",
    "                                                               id_run,\n",
    "                                                               date)\n",
    "    else:\n",
    "        return 'experiment[{}][{}][id_run_{}].hdf5'.format(Group_name,\n",
    "                                                               enviroment_name,\n",
    "                                                               id_run)"
   ]
  },
  {
   "cell_type": "code",
   "execution_count": 41,
   "metadata": {},
   "outputs": [],
   "source": [
    "def generateDictFromData(*args):\n",
    "    # This function generate dictionary with data, which will ne later use to create hdf5 file.\n",
    "    # This function have to implemented by each group independently\n",
    "    N_GEN = 2 # Number of generations\n",
    "    N_IND = 5 # Number of indivi..\n",
    "    N_DES = 8 # Number of Descriptors\n",
    "    fitness = np.array([[random.random() for j2 in range(0, N_IND)] for j in range(0, N_GEN)])\n",
    "    robot_ids = np.array([[random.randint(0,N_IND+N_GEN) for j2 in range(0, N_IND)] for j in range(0, N_GEN)])\n",
    "    discriptors = np.array([[[random.random() for j3 in range(0,N_DES)] for j2 in range(0, N_IND)] for j in range(0, N_IND)])\n",
    "    parents = np.array([[[random.randint(0,100),random.randint(0,100)] for j2 in range(0, N_IND)] for j in range(0, N_GEN)])\n",
    "    children = np.array([[[random.randint(0,100),random.randint(0,100),random.randint(0,100),random.randint(0,100)] for j2 in range(0, N_IND)] for j in range(0, N_GEN)])\n",
    "    return dict(fitness=fitness, robot_ids=robot_ids, discriptors=discriptors, parents=parents, children=children)"
   ]
  },
  {
   "cell_type": "code",
   "execution_count": 12,
   "metadata": {},
   "outputs": [],
   "source": [
    "def writeToFile(path, adict):\n",
    "    with h5py.File(path,'w') as f:\n",
    "        grp = f.create_group('data')\n",
    "        for k,v in adict.items():\n",
    "            grp.create_dataset(k,data=v)"
   ]
  },
  {
   "cell_type": "markdown",
   "metadata": {},
   "source": [
    "# Example of using this functions"
   ]
  },
  {
   "cell_type": "code",
   "execution_count": 37,
   "metadata": {},
   "outputs": [],
   "source": [
    "path = generateNameOfFile(1, 'Mosaic_Plane', False) #Recommended to use date\n",
    "adict = generateDictFromData()\n",
    "writeToFile(path, adict)"
   ]
  },
  {
   "cell_type": "code",
   "execution_count": 39,
   "metadata": {},
   "outputs": [
    {
     "name": "stdout",
     "output_type": "stream",
     "text": [
      "['children', 'discriptors', 'fitness', 'parents', 'robot_ids']\n",
      "[array([[69, 17],\n",
      "       [16, 46],\n",
      "       [18, 12],\n",
      "       [24, 38],\n",
      "       [83, 95]]), array([[50, 43],\n",
      "       [78, 30],\n",
      "       [74, 79],\n",
      "       [ 4, 70],\n",
      "       [64,  7]])]\n"
     ]
    }
   ],
   "source": [
    "with h5py.File(path,'r') as f:\n",
    "    print(list(f['data'].keys()))\n",
    "    print(list(f['data']['parents']))"
   ]
  },
  {
   "cell_type": "code",
   "execution_count": null,
   "metadata": {},
   "outputs": [],
   "source": []
  }
 ],
 "metadata": {
  "kernelspec": {
   "display_name": "Python 3",
   "language": "python",
   "name": "python3"
  },
  "language_info": {
   "codemirror_mode": {
    "name": "ipython",
    "version": 3
   },
   "file_extension": ".py",
   "mimetype": "text/x-python",
   "name": "python",
   "nbconvert_exporter": "python",
   "pygments_lexer": "ipython3",
   "version": "3.6.6"
  }
 },
 "nbformat": 4,
 "nbformat_minor": 2
}
