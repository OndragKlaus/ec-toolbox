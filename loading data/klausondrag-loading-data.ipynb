{
 "cells": [
  {
   "cell_type": "code",
   "execution_count": null,
   "metadata": {},
   "outputs": [],
   "source": [
    "from pathlib import Path\n",
    "import datetime\n",
    "\n",
    "import numpy as np\n",
    "import pandas as pd"
   ]
  },
  {
   "cell_type": "code",
   "execution_count": null,
   "metadata": {},
   "outputs": [],
   "source": [
    "experiment_id = 'hw0'\n",
    "group_name = 'D'\n",
    "world_name = 'mountains'\n",
    "experiment_base_path = Path('/home/klaus/dev/revolve-simulator/l-system/experiments/')"
   ]
  },
  {
   "cell_type": "code",
   "execution_count": null,
   "metadata": {
    "scrolled": false
   },
   "outputs": [],
   "source": [
    "experiment_path = experiment_base_path / experiment_id\n",
    "if not experiment_path.exists():\n",
    "    raise Exception(f'Experiment {str(experiment_path)} does not exist.')\n",
    "\n",
    "dataframes = []\n",
    "dataframes_history = []\n",
    "for run_path in experiment_path.iterdir():\n",
    "    if run_path.is_dir():\n",
    "        run_id = run_path.name\n",
    "        df = pd.read_csv(run_path / 'measures2.txt', sep=' ')\n",
    "        df.rename(columns={'genome': 'genome_id'}, inplace=True)\n",
    "        df = pd.pivot_table(df, values='value', index=['generation', 'genome_id'], \n",
    "                            columns=['measures'], aggfunc='last')\n",
    "        \n",
    "        df_history = pd.read_csv(run_path / 'history.txt', sep=' ')\n",
    "        df_history.rename(columns={'idgenome': 'genome_id', 'idparent1': 'parent1_id', \n",
    "                                   'idparent2': 'parent2_id'}, inplace=True)\n",
    "        df_history.columns.rename('measures', inplace=True)\n",
    "        df_history.set_index(['generation', 'genome_id'], inplace=True)\n",
    "        df_history.drop(df_history.columns[-1], axis=1, inplace=True)\n",
    "        for c in ['parent1_id', 'parent2_id']:\n",
    "            df_history[c].replace('N', np.nan, inplace=True)\n",
    "        \n",
    "        df = pd.concat([df], keys=[run_id], names=['run_id'])\n",
    "        df_history = pd.concat([df_history], keys=[run_id], names=['run_id'])\n",
    "        dataframes.append(df)\n",
    "        dataframes_history.append(df_history)\n",
    "        \n",
    "df = pd.concat(dataframes)"
   ]
  },
  {
   "cell_type": "code",
   "execution_count": null,
   "metadata": {},
   "outputs": [],
   "source": [
    "dataframes[0].head()"
   ]
  },
  {
   "cell_type": "code",
   "execution_count": null,
   "metadata": {},
   "outputs": [],
   "source": [
    "dataframes_history[0].head()"
   ]
  },
  {
   "cell_type": "code",
   "execution_count": null,
   "metadata": {},
   "outputs": [],
   "source": [
    "def get_file_name(group_name: str, world_name: str, experiment_id: str, \n",
    "                  run_id: str, with_date: bool = False) -> str:\n",
    "    if with_date:\n",
    "        date = '_date=' + datetime.datetime.now().strftime(\"%Y%m%d-%H%M%S\")\n",
    "    else:\n",
    "        date = ''\n",
    "    name = f'experiment_grp={group_name}_wld={world_name}_exp={experiment_id}_run={run_id}{date}.hdf5'\n",
    "    return name\n",
    "\n",
    "\n",
    "output_file_name = get_file_name(group_name, world_name, experiment_id, run_id)\n",
    "output_file_path = experiment_path / output_file_name\n",
    "df.to_hdf(output_file_path, key='descriptors')"
   ]
  },
  {
   "cell_type": "code",
   "execution_count": null,
   "metadata": {},
   "outputs": [],
   "source": []
  },
  {
   "cell_type": "code",
   "execution_count": null,
   "metadata": {
    "scrolled": true
   },
   "outputs": [],
   "source": [
    "df = pd.read_hdf(output_file_path, key='descriptors')\n",
    "df.head()"
   ]
  },
  {
   "cell_type": "code",
   "execution_count": null,
   "metadata": {},
   "outputs": [],
   "source": []
  },
  {
   "cell_type": "code",
   "execution_count": null,
   "metadata": {
    "scrolled": true
   },
   "outputs": [],
   "source": []
  },
  {
   "cell_type": "code",
   "execution_count": null,
   "metadata": {
    "scrolled": true
   },
   "outputs": [],
   "source": []
  }
 ],
 "metadata": {
  "kernelspec": {
   "display_name": "Python 3",
   "language": "python",
   "name": "python3"
  },
  "language_info": {
   "codemirror_mode": {
    "name": "ipython",
    "version": 3
   },
   "file_extension": ".py",
   "mimetype": "text/x-python",
   "name": "python",
   "nbconvert_exporter": "python",
   "pygments_lexer": "ipython3",
   "version": "3.6.6"
  }
 },
 "nbformat": 4,
 "nbformat_minor": 2
}
