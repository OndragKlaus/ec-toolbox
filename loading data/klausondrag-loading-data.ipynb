{
 "cells": [
  {
   "cell_type": "code",
   "execution_count": null,
   "metadata": {},
   "outputs": [],
   "source": [
    "from pathlib import Path\n",
    "import datetime\n",
    "\n",
    "import pandas as pd\n",
    "import h5py"
   ]
  },
  {
   "cell_type": "code",
   "execution_count": null,
   "metadata": {},
   "outputs": [],
   "source": [
    "experiment_id = 'hw0'\n",
    "group_name = 'D'\n",
    "world_name = 'mountains'"
   ]
  },
  {
   "cell_type": "code",
   "execution_count": null,
   "metadata": {},
   "outputs": [],
   "source": [
    "experiment_base_path = Path('/home/klaus/dev/revolve-simulator/l-system/experiments/')\n",
    "experiment_path = experiment_base_path / experiment_id\n",
    "if not experiment_path.exists():\n",
    "    raise Exception(f'Experiment {str(experiment_path)} does not exist.')\n",
    "    \n",
    "for run_path in experiment_path.iterdir():\n",
    "    if run_path.is_dir():\n",
    "        pass\n",
    "\n",
    "run_id = run_path.name\n",
    "run_path"
   ]
  },
  {
   "cell_type": "code",
   "execution_count": null,
   "metadata": {},
   "outputs": [],
   "source": [
    "df = pd.read_csv(run_path / 'measures2.txt', sep= ' ')\n",
    "df.head()"
   ]
  },
  {
   "cell_type": "code",
   "execution_count": null,
   "metadata": {},
   "outputs": [],
   "source": [
    "n_measures = len(set(df['measures'].values))"
   ]
  },
  {
   "cell_type": "code",
   "execution_count": null,
   "metadata": {},
   "outputs": [],
   "source": [
    "df = pd.pivot_table(df, values='value', index=['generation', 'genome'], columns=['measures'], aggfunc='last')\n",
    "df.head()"
   ]
  },
  {
   "cell_type": "code",
   "execution_count": null,
   "metadata": {},
   "outputs": [],
   "source": [
    "genomes_per_generation_count = df.reset_index().groupby(['generation'])['genome'].count()\n",
    "all_generations_same_amount = ((genomes_per_generation_count - genomes_per_generation_count.iloc[0]) == 0).all()\n",
    "if not all_generations_same_amount:\n",
    "    raise Exception('Not all generations have the same number of genomes')"
   ]
  },
  {
   "cell_type": "code",
   "execution_count": null,
   "metadata": {
    "scrolled": true
   },
   "outputs": [],
   "source": [
    "generations, genomes = list(zip(*df.index.values))\n",
    "n_generations = len(set(generations))\n",
    "n_genomes_per_generation = genomes_per_generation_count.iloc[0]"
   ]
  },
  {
   "cell_type": "code",
   "execution_count": null,
   "metadata": {
    "scrolled": true
   },
   "outputs": [],
   "source": [
    "data = df.values.reshape((n_generations, n_genomes_per_generation, n_measures))"
   ]
  },
  {
   "cell_type": "code",
   "execution_count": null,
   "metadata": {},
   "outputs": [],
   "source": [
    "def get_file_name(group_name: str, world_name: str, experiment_id: str, \n",
    "                  run_id: str, with_date: bool = True) -> str:\n",
    "    if with_date:\n",
    "        date = '_date=' + datetime.datetime.now().strftime(\"%Y%m%d-%H%M%S\")\n",
    "    else:\n",
    "        date = ''\n",
    "    name = f'experiment_grp={group_name}_wld={world_name}_exp={experiment_id}_run={run_id}{date}.hdf5'\n",
    "    return name"
   ]
  },
  {
   "cell_type": "code",
   "execution_count": null,
   "metadata": {
    "scrolled": true
   },
   "outputs": [],
   "source": [
    "get_file_name(group_name, world_name, experiment_id, run_id)"
   ]
  },
  {
   "cell_type": "code",
   "execution_count": null,
   "metadata": {},
   "outputs": [],
   "source": []
  },
  {
   "cell_type": "code",
   "execution_count": null,
   "metadata": {},
   "outputs": [],
   "source": []
  },
  {
   "cell_type": "code",
   "execution_count": null,
   "metadata": {},
   "outputs": [],
   "source": []
  }
 ],
 "metadata": {
  "kernelspec": {
   "display_name": "Python 3",
   "language": "python",
   "name": "python3"
  },
  "language_info": {
   "codemirror_mode": {
    "name": "ipython",
    "version": 3
   },
   "file_extension": ".py",
   "mimetype": "text/x-python",
   "name": "python",
   "nbconvert_exporter": "python",
   "pygments_lexer": "ipython3",
   "version": "3.6.6"
  }
 },
 "nbformat": 4,
 "nbformat_minor": 2
}
