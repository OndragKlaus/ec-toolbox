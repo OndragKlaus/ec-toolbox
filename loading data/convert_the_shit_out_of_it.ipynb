{
 "cells": [
  {
   "cell_type": "code",
   "execution_count": 1,
   "metadata": {},
   "outputs": [],
   "source": [
    "import yaml\n",
    "import numpy as np\n",
    "import math"
   ]
  },
  {
   "cell_type": "code",
   "execution_count": 2,
   "metadata": {},
   "outputs": [],
   "source": [
    "def print_grid(A):\n",
    "    print('\\n'.join([''.join(['{:4}'.format(item) for item in row]) \n",
    "      for row in A]))"
   ]
  },
  {
   "cell_type": "code",
   "execution_count": 3,
   "metadata": {},
   "outputs": [
    {
     "name": "stdout",
     "output_type": "stream",
     "text": [
      "number of nodes: 15.0\n",
      " 0.0 0.0 0.0 0.0 0.0-1.0-2.0-3.0-3.0 1.0 2.0 3.0 2.0 2.0 3.0\n",
      " 0.0-1.0 1.0 2.0 3.0 0.0 0.0 0.0-1.0 0.0 0.0 0.0-1.0-2.0-2.0\n"
     ]
    }
   ],
   "source": [
    "def tree_walk(*args):\n",
    "    # arguments' parsing\n",
    "    node,n,x,y,parent_slot,parent_north,x_parent,y_parent,b,l,epsilon,j,sensors = args[:]\n",
    "    \n",
    "    # mapping to the rotational sides. Which side comes afterwards\n",
    "    rot = [0,2,1,3] \n",
    "    # counter of number of nodes\n",
    "    m = n + 1\n",
    "    # For the core module, node['slot'] is not present.\n",
    "    #     This is instead of having an if statement\n",
    "    try:\n",
    "        # get the slode that the child is connected to the parent\n",
    "        slot = node['slot']\n",
    "        # Find the orientation of the parent and which side will the \n",
    "        #     child connect to the parent\n",
    "        orientation = (rot.index(parent_north)+rot.index(parent_slot))%4\n",
    "        # Find the north node of the child\n",
    "        node_north = rot[(orientation + rot.index(slot) + 2 )%4]\n",
    "        # Calculate the polar angle to find the x-y displacement\n",
    "        angle = -math.pi*(((orientation+1))%4)/2\n",
    "        # calculate the new x-y position for the child and add to the stack\n",
    "        x_parent = x_parent + int(math.cos(angle))\n",
    "        y_parent = y_parent + int(math.sin(angle))\n",
    "        x = np.append(x, x_parent)\n",
    "        y = np.append(y, y_parent)\n",
    "    except:\n",
    "        # only for the core module\n",
    "        slot = 0\n",
    "        parent_orientation = 0\n",
    "        x = np.append(x, x_parent)\n",
    "        y = np.append(y, y_parent)\n",
    "        node_north = 0  \n",
    "    \n",
    "    # Sensors check\n",
    "    if (not(node['type'] == 'Core' or node['type'] == 'FixedBrick')):\n",
    "        sensors = sensors + 1.0\n",
    "    \n",
    "    # we then recurse through all the children of the child.\n",
    "    #     The leaf nodes of the tree do not have node['children']\n",
    "    try:\n",
    "        n_children = len(node['children'])\n",
    "        \n",
    "        # branch check\n",
    "        if (n_children == 4):\n",
    "            b = b + 1\n",
    "        \n",
    "        # limb counter\n",
    "        l_count = 0\n",
    "        \n",
    "        # for all the available children, recurse\n",
    "        for i in range(0,n_children):\n",
    "            child = node['children'].keys()[i]\n",
    "            \n",
    "            # limbs check\n",
    "            try:\n",
    "                temp = len(node['children'][child]['children'])\n",
    "            except:\n",
    "                l_count = l_count + 1\n",
    "                if (l_count == n_children):\n",
    "                    l = l + 1\n",
    "            \n",
    "            # length of limbs check\n",
    "            try:\n",
    "                if (len(node['children'][child]['children']) == 1):\n",
    "                    epsilon = epsilon + 1\n",
    "            except:\n",
    "                pass\n",
    "            \n",
    "            # Joint check\n",
    "            try:\n",
    "                if (node['type'] == 'FixedBrick' or node['type'] == 'Core'):\n",
    "                    if (node['children'][child]['type'] == 'ActiveHinge'):\n",
    "                        for i2 in range (0,len(node['children'][child]['children'])):\n",
    "                            child2 = node['children'][child]['children'].keys()[i2]\n",
    "                            try:\n",
    "                                temp = len(node['children'][child]['children'][child2]['children'])\n",
    "                                if (node['children'][child]['children'][child2]['type'] == 'FixedBrick' \n",
    "                                    or node['children'][child]['children'][child2]['type'] == 'Core'):\n",
    "                                    j = j + 1\n",
    "                            except:\n",
    "                                pass\n",
    "                                \n",
    "            except Exception as error:\n",
    "                # print error\n",
    "                pass\n",
    "            \n",
    "            [m,x,y,b,l,epsilon,j,sensors] = tree_walk(node['children'][child], m,x,y,child,node_north,\n",
    "                                    x_parent, y_parent, b,l,epsilon,j,sensors)\n",
    "    except:\n",
    "        pass\n",
    "    \n",
    "    return [m,x,y,b,l,epsilon,j,sensors]\n",
    "\n",
    "\n",
    "x = np.array([])\n",
    "y = np.array([])\n",
    "with open(\"robot_150.yaml\", 'r') as stream:\n",
    "    try:\n",
    "        file = yaml.safe_load(stream)\n",
    "    except yaml.YAMLError as exc:\n",
    "        pass\n",
    "\n",
    "# Branching: counter for number of modules attached on all four faces\n",
    "b = 0.0\n",
    "# Limbs: counter for number of modules with only one face attached to another module\n",
    "l = 0.0\n",
    "# Length of limbs: counting the number of moduls which \n",
    "#     have two of its faces attached to other modules\n",
    "epsilon = 0.0\n",
    "# joints: number of effective joints (i.e.: joints which have both of their faces attached)\n",
    "j = 0.0\n",
    "# sensors: number of sensor components\n",
    "sensors = 0.0\n",
    "\n",
    "args = [file['body'],0.0,x,y,0,0,0,0,b,l,epsilon,j, sensors]\n",
    "results = tree_walk(*args)\n",
    "\n",
    "m,x,y,b,l,epsilon,j,sensors = results[:]\n",
    "\n",
    "print \"number of nodes: {}\".format(m)\n",
    "print_grid(np.array([x,y]))"
   ]
  },
  {
   "cell_type": "code",
   "execution_count": 4,
   "metadata": {},
   "outputs": [],
   "source": [
    "# Calculating branching\n",
    "b_max = math.floor((m-2.0)/3.0)\n",
    "if (m >= 5): \n",
    "    branching = (b/b_max) \n",
    "else: \n",
    "    branching = 0"
   ]
  },
  {
   "cell_type": "code",
   "execution_count": 5,
   "metadata": {},
   "outputs": [],
   "source": [
    "# Calculating number of limbs\n",
    "if (m>=6):\n",
    "    l_max = ((2*math.floor((m-6)/3) + ((m-6))%3) + 4)\n",
    "else:\n",
    "    l_max = m-1\n",
    "if l_max > 0:\n",
    "    L = l/l_max\n",
    "else:\n",
    "    L = 0"
   ]
  },
  {
   "cell_type": "code",
   "execution_count": 6,
   "metadata": {},
   "outputs": [],
   "source": [
    "# Calculating convergence\n",
    "e_max = m-2.0\n",
    "if (m>=3):\n",
    "    E = (epsilon/e_max)\n",
    "else:\n",
    "    E = 0"
   ]
  },
  {
   "cell_type": "code",
   "execution_count": 7,
   "metadata": {},
   "outputs": [],
   "source": [
    "# Calculating Length of limbs\n",
    "m_area = (max(x) - min(x) + 1)*(max(y) - min(y) + 1)\n",
    "C = m/m_area"
   ]
  },
  {
   "cell_type": "code",
   "execution_count": 8,
   "metadata": {},
   "outputs": [],
   "source": [
    "# Calculating Joints\n",
    "j_max = math.floor((m-1.0)/2.0)\n",
    "if (m>=3):\n",
    "    J = (j/j_max)\n",
    "else:\n",
    "    J = 0"
   ]
  },
  {
   "cell_type": "code",
   "execution_count": 9,
   "metadata": {},
   "outputs": [],
   "source": [
    "# Calculating Proportion\n",
    "ps = (max(x) - min(x) + 1)\n",
    "pl = (max(y) - min(y) + 1)\n",
    "P = min(ps/pl, pl/ps)"
   ]
  },
  {
   "cell_type": "code",
   "execution_count": 10,
   "metadata": {},
   "outputs": [],
   "source": [
    "# Calculating Symmetry\n",
    "oh = abs(max(x))\n",
    "qh = abs(min(x))\n",
    "ov = abs(max(y))\n",
    "qv = abs(min(y))\n",
    "zh = min(oh/qh, qh/oh)\n",
    "zv = min(ov/qv, qv/ov)\n",
    "Z = max(zh, zv)"
   ]
  },
  {
   "cell_type": "code",
   "execution_count": 11,
   "metadata": {},
   "outputs": [],
   "source": [
    "# Calculating Size\n",
    "m_max = 100.0\n",
    "S = m/m_max"
   ]
  },
  {
   "cell_type": "code",
   "execution_count": 12,
   "metadata": {},
   "outputs": [],
   "source": [
    "# Calculating Sensors\n",
    "n_Sensors = sensors/m"
   ]
  },
  {
   "cell_type": "code",
   "execution_count": 13,
   "metadata": {},
   "outputs": [
    {
     "name": "stdout",
     "output_type": "stream",
     "text": [
      "branching: 0.25\n",
      "limbs: 0.3\n",
      "Length of Limbs: 0.615384615385\n",
      "Coverage: 0.357142857143\n",
      "Joints: 0.142857142857\n",
      "Proportion: 0.857142857143\n",
      "Symmetry: 1.0\n",
      "Size: 0.15\n",
      "Sensors: 0.4\n"
     ]
    }
   ],
   "source": [
    "print (\"branching: {}\".format(branching))\n",
    "print (\"limbs: {}\".format(L))\n",
    "print (\"Length of Limbs: {}\".format(E))\n",
    "print (\"Coverage: {}\".format(C))\n",
    "print (\"Joints: {}\".format(J))\n",
    "print (\"Proportion: {}\".format(P))\n",
    "print (\"Symmetry: {}\".format(Z))\n",
    "print (\"Size: {}\".format(S))\n",
    "print (\"Sensors: {}\".format(n_Sensors))"
   ]
  }
 ],
 "metadata": {
  "kernelspec": {
   "display_name": "Python 2",
   "language": "python",
   "name": "python2"
  },
  "language_info": {
   "codemirror_mode": {
    "name": "ipython",
    "version": 2
   },
   "file_extension": ".py",
   "mimetype": "text/x-python",
   "name": "python",
   "nbconvert_exporter": "python",
   "pygments_lexer": "ipython2",
   "version": "2.7.15rc1"
  }
 },
 "nbformat": 4,
 "nbformat_minor": 2
}
