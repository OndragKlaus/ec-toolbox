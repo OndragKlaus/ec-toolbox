{
 "cells": [
  {
   "cell_type": "code",
   "execution_count": 1,
   "metadata": {},
   "outputs": [],
   "source": [
    "import yaml\n",
    "import numpy as np\n",
    "import math"
   ]
  },
  {
   "cell_type": "code",
   "execution_count": 66,
   "metadata": {},
   "outputs": [],
   "source": [
    "def print_grid(A):\n",
    "    print('\\n'.join([''.join(['{:4}'.format(item) for item in row]) \n",
    "      for row in A]))"
   ]
  },
  {
   "cell_type": "code",
   "execution_count": 193,
   "metadata": {},
   "outputs": [
    {
     "name": "stdout",
     "output_type": "stream",
     "text": [
      "number of nodes: 15\n",
      " 0.0 0.0 0.0 0.0 0.0-1.0-2.0-3.0-3.0 1.0 2.0 3.0 2.0 2.0 3.0\n",
      " 0.0-1.0 1.0 2.0 3.0 0.0 0.0 0.0-1.0 0.0 0.0 0.0-1.0-2.0-2.0\n"
     ]
    }
   ],
   "source": [
    "def tree_walk(node,n,x,y,parent_slot,parent_north, x_parent, y_parent, b):\n",
    "    # mapping to the rotational sides. Which side comes afterwards\n",
    "    rot = [0,2,1,3] \n",
    "    # counter of number of nodes\n",
    "    m = n + 1\n",
    "    # For the core module, node['slot'] is not present.\n",
    "    #     This is instead of having an if statement\n",
    "    try:\n",
    "        # get the slode that the child is connected to the parent\n",
    "        slot = node['slot']\n",
    "        # Find the orientation of the parent and which side will the \n",
    "        #     child connect to the parent\n",
    "        orientation = (rot.index(parent_north)+rot.index(parent_slot))%4\n",
    "        # Find the north node of the child\n",
    "        node_north = rot[(orientation + rot.index(slot) + 2 )%4]\n",
    "        # Calculate the polar angle to find the x-y displacement\n",
    "        angle = -math.pi*(((orientation+1))%4)/2\n",
    "        # calculate the new x-y position for the child and add to the stack\n",
    "        x_parent = x_parent + int(math.cos(angle))\n",
    "        y_parent = y_parent + int(math.sin(angle))\n",
    "        x = np.append(x, x_parent)\n",
    "        y = np.append(y, y_parent)\n",
    "    except:\n",
    "        # only for the core module\n",
    "        slot = 0\n",
    "        parent_orientation = 0\n",
    "        x = np.append(x, x_parent)\n",
    "        y = np.append(y, y_parent)\n",
    "        node_north = 0  \n",
    "    \n",
    "    # we then recurse through all the children of the child.\n",
    "    #     The leaf nodes of the tree do not have node['children']\n",
    "    try:\n",
    "        n_children = len(node['children'])\n",
    "        # branch check\n",
    "        if (n_children == 4):\n",
    "            b = b + 1\n",
    "        # for all the available children, recurse\n",
    "        for i in range(0,n_children):\n",
    "            m,x,y,b = tree_walk(node['children'][node['children'].keys()[i]], \n",
    "                            m,x,y,node['children'].keys()[i],node_north,x_parent, y_parent, b)\n",
    "        return m,x,y,b\n",
    "    except:\n",
    "        pass\n",
    "    return m,x,y,b\n",
    "\n",
    "\n",
    "x = np.array([])\n",
    "y = np.array([])\n",
    "with open(\"robot_150.yaml\", 'r') as stream:\n",
    "    try:\n",
    "        file = yaml.safe_load(stream)\n",
    "    except yaml.YAMLError as exc:\n",
    "        pass\n",
    "\n",
    "# Branching: counter for number of modules attached on all four faces\n",
    "b = 0\n",
    "\n",
    "m,x,y,b = tree_walk(file['body'],0,x,y,0,0,0,0,b)\n",
    "\n",
    "print \"number of nodes: {}\".format(m)\n",
    "print_grid(np.array([x,y]))"
   ]
  },
  {
   "cell_type": "code",
   "execution_count": 195,
   "metadata": {},
   "outputs": [
    {
     "name": "stdout",
     "output_type": "stream",
     "text": [
      "0.25\n"
     ]
    }
   ],
   "source": [
    "# Calculating branching\n",
    "b_max = math.floor((m-2.0)/3.0)\n",
    "if (m >= 5): \n",
    "    branching = (b/b_max) \n",
    "else: \n",
    "    branching = 0\n",
    "print (\"branching: {}\".format(branching))"
   ]
  },
  {
   "cell_type": "code",
   "execution_count": 65,
   "metadata": {},
   "outputs": [
    {
     "name": "stdout",
     "output_type": "stream",
     "text": [
      "[[0 1 2 3]\n",
      " [0 2 4 6]]\n",
      "(2, 4)\n"
     ]
    }
   ],
   "source": [
    "a = np.array([0,1,2,3])\n",
    "b = a*2\n",
    "c = np.array([a,b])\n",
    "print c\n",
    "print c.shape"
   ]
  }
 ],
 "metadata": {
  "kernelspec": {
   "display_name": "Python 2",
   "language": "python",
   "name": "python2"
  },
  "language_info": {
   "codemirror_mode": {
    "name": "ipython",
    "version": 2
   },
   "file_extension": ".py",
   "mimetype": "text/x-python",
   "name": "python",
   "nbconvert_exporter": "python",
   "pygments_lexer": "ipython2",
   "version": "2.7.15rc1"
  }
 },
 "nbformat": 4,
 "nbformat_minor": 2
}
